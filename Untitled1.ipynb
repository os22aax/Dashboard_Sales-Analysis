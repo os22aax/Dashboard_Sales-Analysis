{
 "cells": [
  {
   "cell_type": "code",
   "execution_count": 25,
   "id": "2a3c17ca",
   "metadata": {},
   "outputs": [],
   "source": [
    "import pandas as pd\n",
    "import csv"
   ]
  },
  {
   "cell_type": "code",
   "execution_count": 26,
   "id": "c387e5b9",
   "metadata": {},
   "outputs": [],
   "source": [
    "def fix_csv(input_file, output_file):\n",
    "    with open(input_file, 'r', newline='', encoding='ANSI') as infile, \\\n",
    "         open(output_file, 'w', newline='', encoding='ANSI') as outfile:\n",
    "        \n",
    "        reader = csv.reader(infile)\n",
    "        writer = csv.writer(outfile, quoting=csv.QUOTE_MINIMAL)\n",
    "        \n",
    "        for row in reader:\n",
    "            fixed_row = []\n",
    "            for field in row:\n",
    "                # Ensure fields with quotes are properly closed\n",
    "                if field.count('\"') % 2 != 0:\n",
    "                    field += '\"'\n",
    "                # Replace single quotes with escaped quotes\n",
    "                field = field.replace(\"'\", \"''\")\n",
    "                fixed_row.append(field)\n",
    "            writer.writerow(fixed_row)\n",
    "\n",
    "# Replace 'input.csv' and 'output.csv' with your file paths\n",
    "fix_csv('Sales_Datasets.csv', 'Fixed_Datasets_CR.csv')\n",
    "\n",
    "   "
   ]
  },
  {
   "cell_type": "code",
   "execution_count": null,
   "id": "1405a0a8",
   "metadata": {},
   "outputs": [],
   "source": []
  },
  {
   "cell_type": "code",
   "execution_count": 27,
   "id": "6e545ffb",
   "metadata": {},
   "outputs": [
    {
     "name": "stdout",
     "output_type": "stream",
     "text": [
      "CSV file loaded successfully.\n",
      "   Row ID        Order ID Order Date   Ship Date  Delivery Duration  \\\n",
      "0       1  CA-2016-152156  11/8/2016  11/11/2016                  3   \n",
      "1       2  CA-2016-152156  11/8/2016  11/11/2016                  3   \n",
      "\n",
      "      Ship Mode Customer ID Customer Name   Segment        Country  ...  \\\n",
      "0  Second Class    CG-12520   Claire Gute  Consumer  United States  ...   \n",
      "1  Second Class    CG-12520   Claire Gute  Consumer  United States  ...   \n",
      "\n",
      "        Product ID   Category  Sub-Category  \\\n",
      "0  FUR-BO-10001798  Furniture     Bookcases   \n",
      "1  FUR-CH-10000454  Furniture        Chairs   \n",
      "\n",
      "                                        Product Name   Sales Quantity  \\\n",
      "0                  Bush Somerset Collection Bookcase  261.96        2   \n",
      "1  Hon Deluxe Fabric Upholstered Stacking Chairs,...  731.94        3   \n",
      "\n",
      "  Discount Discount Value    Profit      COGS  \n",
      "0      0.0            0.0   41.9136 -220.0464  \n",
      "1      0.0            0.0  219.5820 -512.3580  \n",
      "\n",
      "[2 rows x 24 columns]\n"
     ]
    }
   ],
   "source": [
    "try:\n",
    "    df_data = pd.read_csv('Fixed_Datasets_CR.csv', encoding='ANSI')\n",
    "    print(\"CSV file loaded successfully.\")\n",
    "    print(df_data.head(2))\n",
    "except Exception as e:\n",
    "    print(f\"An error occurred while loading the CSV file: {e}\")"
   ]
  },
  {
   "cell_type": "code",
   "execution_count": 7,
   "id": "6b967534",
   "metadata": {},
   "outputs": [
    {
     "name": "stdout",
     "output_type": "stream",
     "text": [
      "DataFrame shape: (9994, 24)\n",
      "Row ID               0\n",
      "Order ID             0\n",
      "Order Date           0\n",
      "Ship Date            0\n",
      "Delivery Duration    0\n",
      "Ship Mode            0\n",
      "Customer ID          0\n",
      "Customer Name        0\n",
      "Segment              0\n",
      "Country              0\n",
      "City                 0\n",
      "State                0\n",
      "Postal Code          0\n",
      "Region               0\n",
      "Product ID           0\n",
      "Category             0\n",
      "Sub-Category         0\n",
      "Product Name         0\n",
      "Sales                0\n",
      "Quantity             0\n",
      "Discount             0\n",
      "Discount Value       0\n",
      "Profit               0\n",
      "COGS                 0\n",
      "dtype: int64\n"
     ]
    }
   ],
   "source": [
    "# Check the shape of the DataFrame\n",
    "print(f\"DataFrame shape: {df_data.shape}\")\n",
    "# Optionally, check for missing values or other anomalies\n",
    "print(df_data.isnull().sum())"
   ]
  },
  {
   "cell_type": "code",
   "execution_count": 31,
   "id": "dd12af39",
   "metadata": {},
   "outputs": [],
   "source": []
  },
  {
   "cell_type": "code",
   "execution_count": 28,
   "id": "e82649f9",
   "metadata": {},
   "outputs": [
    {
     "data": {
      "text/html": [
       "<div>\n",
       "<style scoped>\n",
       "    .dataframe tbody tr th:only-of-type {\n",
       "        vertical-align: middle;\n",
       "    }\n",
       "\n",
       "    .dataframe tbody tr th {\n",
       "        vertical-align: top;\n",
       "    }\n",
       "\n",
       "    .dataframe thead th {\n",
       "        text-align: right;\n",
       "    }\n",
       "</style>\n",
       "<table border=\"1\" class=\"dataframe\">\n",
       "  <thead>\n",
       "    <tr style=\"text-align: right;\">\n",
       "      <th></th>\n",
       "      <th>Row ID</th>\n",
       "      <th>Order ID</th>\n",
       "      <th>Order Date</th>\n",
       "      <th>Ship Date</th>\n",
       "      <th>Delivery Duration</th>\n",
       "      <th>Ship Mode</th>\n",
       "      <th>Customer ID</th>\n",
       "      <th>Customer Name</th>\n",
       "      <th>Segment</th>\n",
       "      <th>Country</th>\n",
       "      <th>...</th>\n",
       "      <th>Product ID</th>\n",
       "      <th>Category</th>\n",
       "      <th>Sub-Category</th>\n",
       "      <th>Product Name</th>\n",
       "      <th>Sales</th>\n",
       "      <th>Quantity</th>\n",
       "      <th>Discount</th>\n",
       "      <th>Discount Value</th>\n",
       "      <th>Profit</th>\n",
       "      <th>COGS</th>\n",
       "    </tr>\n",
       "  </thead>\n",
       "  <tbody>\n",
       "    <tr>\n",
       "      <th>0</th>\n",
       "      <td>1</td>\n",
       "      <td>CA-2016-152156</td>\n",
       "      <td>11/8/2016</td>\n",
       "      <td>11/11/2016</td>\n",
       "      <td>3</td>\n",
       "      <td>Second Class</td>\n",
       "      <td>CG-12520</td>\n",
       "      <td>Claire Gute</td>\n",
       "      <td>Consumer</td>\n",
       "      <td>United States</td>\n",
       "      <td>...</td>\n",
       "      <td>FUR-BO-10001798</td>\n",
       "      <td>Furniture</td>\n",
       "      <td>Bookcases</td>\n",
       "      <td>Bush Somerset Collection Bookcase</td>\n",
       "      <td>261.96</td>\n",
       "      <td>2</td>\n",
       "      <td>0.0</td>\n",
       "      <td>0.0</td>\n",
       "      <td>41.9136</td>\n",
       "      <td>-220.0464</td>\n",
       "    </tr>\n",
       "    <tr>\n",
       "      <th>1</th>\n",
       "      <td>2</td>\n",
       "      <td>CA-2016-152156</td>\n",
       "      <td>11/8/2016</td>\n",
       "      <td>11/11/2016</td>\n",
       "      <td>3</td>\n",
       "      <td>Second Class</td>\n",
       "      <td>CG-12520</td>\n",
       "      <td>Claire Gute</td>\n",
       "      <td>Consumer</td>\n",
       "      <td>United States</td>\n",
       "      <td>...</td>\n",
       "      <td>FUR-CH-10000454</td>\n",
       "      <td>Furniture</td>\n",
       "      <td>Chairs</td>\n",
       "      <td>Hon Deluxe Fabric Upholstered Stacking Chairs,...</td>\n",
       "      <td>731.94</td>\n",
       "      <td>3</td>\n",
       "      <td>0.0</td>\n",
       "      <td>0.0</td>\n",
       "      <td>219.5820</td>\n",
       "      <td>-512.3580</td>\n",
       "    </tr>\n",
       "  </tbody>\n",
       "</table>\n",
       "<p>2 rows × 24 columns</p>\n",
       "</div>"
      ],
      "text/plain": [
       "   Row ID        Order ID Order Date   Ship Date  Delivery Duration  \\\n",
       "0       1  CA-2016-152156  11/8/2016  11/11/2016                  3   \n",
       "1       2  CA-2016-152156  11/8/2016  11/11/2016                  3   \n",
       "\n",
       "      Ship Mode Customer ID Customer Name   Segment        Country  ...  \\\n",
       "0  Second Class    CG-12520   Claire Gute  Consumer  United States  ...   \n",
       "1  Second Class    CG-12520   Claire Gute  Consumer  United States  ...   \n",
       "\n",
       "        Product ID   Category  Sub-Category  \\\n",
       "0  FUR-BO-10001798  Furniture     Bookcases   \n",
       "1  FUR-CH-10000454  Furniture        Chairs   \n",
       "\n",
       "                                        Product Name   Sales Quantity  \\\n",
       "0                  Bush Somerset Collection Bookcase  261.96        2   \n",
       "1  Hon Deluxe Fabric Upholstered Stacking Chairs,...  731.94        3   \n",
       "\n",
       "  Discount Discount Value    Profit      COGS  \n",
       "0      0.0            0.0   41.9136 -220.0464  \n",
       "1      0.0            0.0  219.5820 -512.3580  \n",
       "\n",
       "[2 rows x 24 columns]"
      ]
     },
     "execution_count": 28,
     "metadata": {},
     "output_type": "execute_result"
    }
   ],
   "source": [
    "df_data.head(2)"
   ]
  },
  {
   "cell_type": "code",
   "execution_count": 46,
   "id": "db29c131",
   "metadata": {},
   "outputs": [
    {
     "data": {
      "text/plain": [
       "0"
      ]
     },
     "execution_count": 46,
     "metadata": {},
     "output_type": "execute_result"
    }
   ],
   "source": [
    "df_data.duplicated().sum()"
   ]
  },
  {
   "cell_type": "code",
   "execution_count": 48,
   "id": "922c9bea",
   "metadata": {},
   "outputs": [
    {
     "data": {
      "text/plain": [
       "Row ID               0\n",
       "Order ID             0\n",
       "Order Date           0\n",
       "Ship Date            0\n",
       "Delivery Duration    0\n",
       "Ship Mode            0\n",
       "Customer ID          0\n",
       "Customer Name        0\n",
       "Segment              0\n",
       "Country              0\n",
       "City                 0\n",
       "State                0\n",
       "Postal Code          0\n",
       "Region               0\n",
       "Product ID           0\n",
       "Category             0\n",
       "Sub-Category         0\n",
       "Product Name         0\n",
       "Sales                0\n",
       "Quantity             0\n",
       "Discount             0\n",
       "Discount Value       0\n",
       "Profit               0\n",
       "COGS                 0\n",
       "dtype: int64"
      ]
     },
     "execution_count": 48,
     "metadata": {},
     "output_type": "execute_result"
    }
   ],
   "source": [
    "df_data.isnull().sum()"
   ]
  },
  {
   "cell_type": "code",
   "execution_count": 10,
   "id": "8eda9ee8",
   "metadata": {},
   "outputs": [
    {
     "name": "stdout",
     "output_type": "stream",
     "text": [
      "<class 'pandas.core.frame.DataFrame'>\n",
      "RangeIndex: 9994 entries, 0 to 9993\n",
      "Data columns (total 24 columns):\n",
      " #   Column             Non-Null Count  Dtype  \n",
      "---  ------             --------------  -----  \n",
      " 0   Row ID             9994 non-null   int64  \n",
      " 1   Order ID           9994 non-null   object \n",
      " 2   Order Date         9994 non-null   object \n",
      " 3   Ship Date          9994 non-null   object \n",
      " 4   Delivery Duration  9994 non-null   int64  \n",
      " 5   Ship Mode          9994 non-null   object \n",
      " 6   Customer ID        9994 non-null   object \n",
      " 7   Customer Name      9994 non-null   object \n",
      " 8   Segment            9994 non-null   object \n",
      " 9   Country            9994 non-null   object \n",
      " 10  City               9994 non-null   object \n",
      " 11  State              9994 non-null   object \n",
      " 12  Postal Code        9994 non-null   int64  \n",
      " 13  Region             9994 non-null   object \n",
      " 14  Product ID         9994 non-null   object \n",
      " 15  Category           9994 non-null   object \n",
      " 16  Sub-Category       9994 non-null   object \n",
      " 17  Product Name       9994 non-null   object \n",
      " 18  Sales              9994 non-null   float64\n",
      " 19  Quantity           9994 non-null   int64  \n",
      " 20  Discount           9994 non-null   float64\n",
      " 21  Discount Value     9994 non-null   float64\n",
      " 22  Profit             9994 non-null   float64\n",
      " 23  COGS               9994 non-null   float64\n",
      "dtypes: float64(5), int64(4), object(15)\n",
      "memory usage: 1.8+ MB\n"
     ]
    }
   ],
   "source": [
    "df_data.info()"
   ]
  },
  {
   "cell_type": "code",
   "execution_count": 34,
   "id": "50c36e64",
   "metadata": {},
   "outputs": [
    {
     "data": {
      "text/plain": [
       "4985"
      ]
     },
     "execution_count": 34,
     "metadata": {},
     "output_type": "execute_result"
    }
   ],
   "source": [
    "df_data['Order ID'].duplicated().sum()"
   ]
  },
  {
   "cell_type": "code",
   "execution_count": null,
   "id": "837339b2",
   "metadata": {},
   "outputs": [],
   "source": []
  },
  {
   "cell_type": "code",
   "execution_count": 29,
   "id": "d0926fff",
   "metadata": {},
   "outputs": [],
   "source": [
    "products_df = df_data[['Order ID','Product ID', 'Category', \n",
    "                       'Sub-Category', 'Product Name']]"
   ]
  },
  {
   "cell_type": "code",
   "execution_count": 67,
   "id": "94d4c731",
   "metadata": {},
   "outputs": [
    {
     "data": {
      "text/html": [
       "<div>\n",
       "<style scoped>\n",
       "    .dataframe tbody tr th:only-of-type {\n",
       "        vertical-align: middle;\n",
       "    }\n",
       "\n",
       "    .dataframe tbody tr th {\n",
       "        vertical-align: top;\n",
       "    }\n",
       "\n",
       "    .dataframe thead th {\n",
       "        text-align: right;\n",
       "    }\n",
       "</style>\n",
       "<table border=\"1\" class=\"dataframe\">\n",
       "  <thead>\n",
       "    <tr style=\"text-align: right;\">\n",
       "      <th></th>\n",
       "      <th>Order ID</th>\n",
       "      <th>Product ID</th>\n",
       "      <th>Category</th>\n",
       "      <th>Sub-Category</th>\n",
       "      <th>Product Name</th>\n",
       "    </tr>\n",
       "  </thead>\n",
       "  <tbody>\n",
       "    <tr>\n",
       "      <th>0</th>\n",
       "      <td>CA-2016-152156</td>\n",
       "      <td>FUR-BO-10001798</td>\n",
       "      <td>Furniture</td>\n",
       "      <td>Bookcases</td>\n",
       "      <td>Bush Somerset Collection Bookcase</td>\n",
       "    </tr>\n",
       "    <tr>\n",
       "      <th>1</th>\n",
       "      <td>CA-2016-152156</td>\n",
       "      <td>FUR-CH-10000454</td>\n",
       "      <td>Furniture</td>\n",
       "      <td>Chairs</td>\n",
       "      <td>Hon Deluxe Fabric Upholstered Stacking Chairs,...</td>\n",
       "    </tr>\n",
       "    <tr>\n",
       "      <th>2</th>\n",
       "      <td>CA-2016-138688</td>\n",
       "      <td>OFF-LA-10000240</td>\n",
       "      <td>Office Supplies</td>\n",
       "      <td>Labels</td>\n",
       "      <td>Self-Adhesive Address Labels for Typewriters b...</td>\n",
       "    </tr>\n",
       "    <tr>\n",
       "      <th>3</th>\n",
       "      <td>US-2015-108966</td>\n",
       "      <td>FUR-TA-10000577</td>\n",
       "      <td>Furniture</td>\n",
       "      <td>Tables</td>\n",
       "      <td>Bretford CR4500 Series Slim Rectangular Table</td>\n",
       "    </tr>\n",
       "    <tr>\n",
       "      <th>4</th>\n",
       "      <td>US-2015-108966</td>\n",
       "      <td>OFF-ST-10000760</td>\n",
       "      <td>Office Supplies</td>\n",
       "      <td>Storage</td>\n",
       "      <td>Eldon Fold 'N Roll Cart System</td>\n",
       "    </tr>\n",
       "  </tbody>\n",
       "</table>\n",
       "</div>"
      ],
      "text/plain": [
       "         Order ID       Product ID         Category Sub-Category  \\\n",
       "0  CA-2016-152156  FUR-BO-10001798        Furniture    Bookcases   \n",
       "1  CA-2016-152156  FUR-CH-10000454        Furniture       Chairs   \n",
       "2  CA-2016-138688  OFF-LA-10000240  Office Supplies       Labels   \n",
       "3  US-2015-108966  FUR-TA-10000577        Furniture       Tables   \n",
       "4  US-2015-108966  OFF-ST-10000760  Office Supplies      Storage   \n",
       "\n",
       "                                        Product Name  \n",
       "0                  Bush Somerset Collection Bookcase  \n",
       "1  Hon Deluxe Fabric Upholstered Stacking Chairs,...  \n",
       "2  Self-Adhesive Address Labels for Typewriters b...  \n",
       "3      Bretford CR4500 Series Slim Rectangular Table  \n",
       "4                     Eldon Fold 'N Roll Cart System  "
      ]
     },
     "execution_count": 67,
     "metadata": {},
     "output_type": "execute_result"
    }
   ],
   "source": [
    "products_df.head()"
   ]
  },
  {
   "cell_type": "code",
   "execution_count": 30,
   "id": "933cdb61",
   "metadata": {},
   "outputs": [],
   "source": [
    "date_df = df_data[['Order ID', 'Order Date', \n",
    "                   'Ship Date', 'Delivery Duration']]"
   ]
  },
  {
   "cell_type": "code",
   "execution_count": 53,
   "id": "994a1dfc",
   "metadata": {},
   "outputs": [
    {
     "data": {
      "text/html": [
       "<div>\n",
       "<style scoped>\n",
       "    .dataframe tbody tr th:only-of-type {\n",
       "        vertical-align: middle;\n",
       "    }\n",
       "\n",
       "    .dataframe tbody tr th {\n",
       "        vertical-align: top;\n",
       "    }\n",
       "\n",
       "    .dataframe thead th {\n",
       "        text-align: right;\n",
       "    }\n",
       "</style>\n",
       "<table border=\"1\" class=\"dataframe\">\n",
       "  <thead>\n",
       "    <tr style=\"text-align: right;\">\n",
       "      <th></th>\n",
       "      <th>Order ID</th>\n",
       "      <th>Order Date</th>\n",
       "      <th>Ship Date</th>\n",
       "      <th>Delivery Duration</th>\n",
       "    </tr>\n",
       "  </thead>\n",
       "  <tbody>\n",
       "    <tr>\n",
       "      <th>0</th>\n",
       "      <td>CA-2016-152156</td>\n",
       "      <td>11/8/2016</td>\n",
       "      <td>11/11/2016</td>\n",
       "      <td>3</td>\n",
       "    </tr>\n",
       "    <tr>\n",
       "      <th>1</th>\n",
       "      <td>CA-2016-152156</td>\n",
       "      <td>11/8/2016</td>\n",
       "      <td>11/11/2016</td>\n",
       "      <td>3</td>\n",
       "    </tr>\n",
       "  </tbody>\n",
       "</table>\n",
       "</div>"
      ],
      "text/plain": [
       "         Order ID Order Date   Ship Date  Delivery Duration\n",
       "0  CA-2016-152156  11/8/2016  11/11/2016                  3\n",
       "1  CA-2016-152156  11/8/2016  11/11/2016                  3"
      ]
     },
     "execution_count": 53,
     "metadata": {},
     "output_type": "execute_result"
    }
   ],
   "source": [
    "date_df.head(2)"
   ]
  },
  {
   "cell_type": "code",
   "execution_count": 31,
   "id": "cac0d971",
   "metadata": {},
   "outputs": [],
   "source": [
    "order_df = df_data[['Order ID', 'Ship Mode', 'Customer ID', 'Product ID', 'Sales', 'Quantity', \n",
    "                    'Discount', 'Discount Value', 'Profit', 'COGS']]"
   ]
  },
  {
   "cell_type": "code",
   "execution_count": 55,
   "id": "494c411f",
   "metadata": {},
   "outputs": [
    {
     "data": {
      "text/html": [
       "<div>\n",
       "<style scoped>\n",
       "    .dataframe tbody tr th:only-of-type {\n",
       "        vertical-align: middle;\n",
       "    }\n",
       "\n",
       "    .dataframe tbody tr th {\n",
       "        vertical-align: top;\n",
       "    }\n",
       "\n",
       "    .dataframe thead th {\n",
       "        text-align: right;\n",
       "    }\n",
       "</style>\n",
       "<table border=\"1\" class=\"dataframe\">\n",
       "  <thead>\n",
       "    <tr style=\"text-align: right;\">\n",
       "      <th></th>\n",
       "      <th>Order ID</th>\n",
       "      <th>Ship Mode</th>\n",
       "      <th>Customer ID</th>\n",
       "      <th>Product ID</th>\n",
       "      <th>Sales</th>\n",
       "      <th>Quantity</th>\n",
       "      <th>Discount</th>\n",
       "      <th>Discount Value</th>\n",
       "      <th>Profit</th>\n",
       "      <th>COGS</th>\n",
       "    </tr>\n",
       "  </thead>\n",
       "  <tbody>\n",
       "    <tr>\n",
       "      <th>0</th>\n",
       "      <td>CA-2016-152156</td>\n",
       "      <td>Second Class</td>\n",
       "      <td>CG-12520</td>\n",
       "      <td>FUR-BO-10001798</td>\n",
       "      <td>261.96</td>\n",
       "      <td>2</td>\n",
       "      <td>0.0</td>\n",
       "      <td>0.0</td>\n",
       "      <td>41.9136</td>\n",
       "      <td>-220.0464</td>\n",
       "    </tr>\n",
       "    <tr>\n",
       "      <th>1</th>\n",
       "      <td>CA-2016-152156</td>\n",
       "      <td>Second Class</td>\n",
       "      <td>CG-12520</td>\n",
       "      <td>FUR-CH-10000454</td>\n",
       "      <td>731.94</td>\n",
       "      <td>3</td>\n",
       "      <td>0.0</td>\n",
       "      <td>0.0</td>\n",
       "      <td>219.5820</td>\n",
       "      <td>-512.3580</td>\n",
       "    </tr>\n",
       "  </tbody>\n",
       "</table>\n",
       "</div>"
      ],
      "text/plain": [
       "         Order ID     Ship Mode Customer ID       Product ID   Sales  \\\n",
       "0  CA-2016-152156  Second Class    CG-12520  FUR-BO-10001798  261.96   \n",
       "1  CA-2016-152156  Second Class    CG-12520  FUR-CH-10000454  731.94   \n",
       "\n",
       "   Quantity  Discount  Discount Value    Profit      COGS  \n",
       "0         2       0.0             0.0   41.9136 -220.0464  \n",
       "1         3       0.0             0.0  219.5820 -512.3580  "
      ]
     },
     "execution_count": 55,
     "metadata": {},
     "output_type": "execute_result"
    }
   ],
   "source": [
    "order_df.head(2)"
   ]
  },
  {
   "cell_type": "code",
   "execution_count": 32,
   "id": "1e74ad34",
   "metadata": {},
   "outputs": [],
   "source": [
    "customer_df = df_data[['Order ID', 'Customer ID', 'Customer Name', \n",
    "                       'Segment', 'Country', 'City', 'State', 'Region', 'Postal Code']]"
   ]
  },
  {
   "cell_type": "code",
   "execution_count": 57,
   "id": "0621bdcf",
   "metadata": {},
   "outputs": [
    {
     "data": {
      "text/html": [
       "<div>\n",
       "<style scoped>\n",
       "    .dataframe tbody tr th:only-of-type {\n",
       "        vertical-align: middle;\n",
       "    }\n",
       "\n",
       "    .dataframe tbody tr th {\n",
       "        vertical-align: top;\n",
       "    }\n",
       "\n",
       "    .dataframe thead th {\n",
       "        text-align: right;\n",
       "    }\n",
       "</style>\n",
       "<table border=\"1\" class=\"dataframe\">\n",
       "  <thead>\n",
       "    <tr style=\"text-align: right;\">\n",
       "      <th></th>\n",
       "      <th>Order ID</th>\n",
       "      <th>Customer ID</th>\n",
       "      <th>Customer Name</th>\n",
       "      <th>Segment</th>\n",
       "      <th>Country</th>\n",
       "      <th>City</th>\n",
       "      <th>State</th>\n",
       "      <th>Region</th>\n",
       "      <th>Postal Code</th>\n",
       "    </tr>\n",
       "  </thead>\n",
       "  <tbody>\n",
       "    <tr>\n",
       "      <th>0</th>\n",
       "      <td>CA-2016-152156</td>\n",
       "      <td>CG-12520</td>\n",
       "      <td>Claire Gute</td>\n",
       "      <td>Consumer</td>\n",
       "      <td>United States</td>\n",
       "      <td>Henderson</td>\n",
       "      <td>Kentucky</td>\n",
       "      <td>South</td>\n",
       "      <td>42420</td>\n",
       "    </tr>\n",
       "    <tr>\n",
       "      <th>1</th>\n",
       "      <td>CA-2016-152156</td>\n",
       "      <td>CG-12520</td>\n",
       "      <td>Claire Gute</td>\n",
       "      <td>Consumer</td>\n",
       "      <td>United States</td>\n",
       "      <td>Henderson</td>\n",
       "      <td>Kentucky</td>\n",
       "      <td>South</td>\n",
       "      <td>42420</td>\n",
       "    </tr>\n",
       "  </tbody>\n",
       "</table>\n",
       "</div>"
      ],
      "text/plain": [
       "         Order ID Customer ID Customer Name   Segment        Country  \\\n",
       "0  CA-2016-152156    CG-12520   Claire Gute  Consumer  United States   \n",
       "1  CA-2016-152156    CG-12520   Claire Gute  Consumer  United States   \n",
       "\n",
       "        City     State Region  Postal Code  \n",
       "0  Henderson  Kentucky  South        42420  \n",
       "1  Henderson  Kentucky  South        42420  "
      ]
     },
     "execution_count": 57,
     "metadata": {},
     "output_type": "execute_result"
    }
   ],
   "source": [
    "customer_df.head(2)"
   ]
  },
  {
   "cell_type": "code",
   "execution_count": 33,
   "id": "6fdc966e",
   "metadata": {},
   "outputs": [],
   "source": [
    "products_df.to_csv('DATA_PRODUCTS_CRR.csv', index=False)\n",
    "date_df.to_csv('DATA_DATE_CRR.csv', index=False)\n",
    "order_df.to_csv('DATA_ORDER_CRR.csv', index=False)\n",
    "customer_df.to_csv('DATA_CUSTOMERS_CRR.csv', index=False)"
   ]
  },
  {
   "cell_type": "code",
   "execution_count": null,
   "id": "2ab7b90c",
   "metadata": {},
   "outputs": [],
   "source": []
  }
 ],
 "metadata": {
  "kernelspec": {
   "display_name": "Python 3 (ipykernel)",
   "language": "python",
   "name": "python3"
  },
  "language_info": {
   "codemirror_mode": {
    "name": "ipython",
    "version": 3
   },
   "file_extension": ".py",
   "mimetype": "text/x-python",
   "name": "python",
   "nbconvert_exporter": "python",
   "pygments_lexer": "ipython3",
   "version": "3.9.13"
  }
 },
 "nbformat": 4,
 "nbformat_minor": 5
}
